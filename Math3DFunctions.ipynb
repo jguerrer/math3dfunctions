{
 "cells": [
  {
   "cell_type": "markdown",
   "id": "7470fdb6",
   "metadata": {},
   "source": [
    "#  MAth3DFunctions walktrough"
   ]
  },
  {
   "cell_type": "markdown",
   "id": "23dcc207",
   "metadata": {},
   "source": [
    "This library is structured on different files. MathFunctions3D describes a set of common operations suitable to work with 3D vectors and some matrx operations. Examples include:\n",
    "\n",
    "\n",
    "Add two 3d vectors\n",
    "\n",
    "Multiply a vector with a scalar numbr\n",
    "\n",
    "Transpose a 3d matrix, i.e. a 3 by 3 matriz, exanging rows with columns\n",
    "\n",
    "Multiply a 3D matrix with a scalar\n",
    "\n",
    "\n"
   ]
  },
  {
   "cell_type": "markdown",
   "id": "a4760712",
   "metadata": {},
   "source": [
    "var mathf3d = require('./MathFunctions3D');//importing  the library, which will run some internal tests\n",
    "//const math = require('mathjs')\n",
    "\n"
   ]
  },
  {
   "cell_type": "markdown",
   "id": "0b3a2908",
   "metadata": {},
   "source": [
    "Compute the norm of a vector and normalize a vector\n"
   ]
  },
  {
   "cell_type": "code",
   "execution_count": 2,
   "id": "f4ac2c43",
   "metadata": {},
   "outputs": [
    {
     "data": {
      "text/plain": [
       "1.7320508075688772"
      ]
     },
     "execution_count": 2,
     "metadata": {},
     "output_type": "execute_result"
    }
   ],
   "source": [
    "mathf3d.norm3D([1,1,1]);\n"
   ]
  },
  {
   "cell_type": "code",
   "execution_count": 3,
   "id": "db984ddd",
   "metadata": {},
   "outputs": [
    {
     "data": {
      "text/plain": [
       "[ 0.5773502691896258, 0.5773502691896258, 0.5773502691896258 ]"
      ]
     },
     "execution_count": 3,
     "metadata": {},
     "output_type": "execute_result"
    }
   ],
   "source": [
    "normalized=mathf3d.normalize3D([1,1,1]) "
   ]
  },
  {
   "cell_type": "code",
   "execution_count": 4,
   "id": "0473f383",
   "metadata": {},
   "outputs": [
    {
     "name": "stdout",
     "output_type": "stream",
     "text": [
      "[ 0.5773502691896258, 0.5773502691896258, 0.5773502691896258 ]\n"
     ]
    }
   ],
   "source": [
    "console.log(normalized)"
   ]
  },
  {
   "cell_type": "code",
   "execution_count": 5,
   "id": "6e5bde61",
   "metadata": {},
   "outputs": [
    {
     "data": {
      "text/plain": [
       "1"
      ]
     },
     "execution_count": 5,
     "metadata": {},
     "output_type": "execute_result"
    }
   ],
   "source": [
    "mathf3d.norm3D(normalized)"
   ]
  },
  {
   "cell_type": "code",
   "execution_count": 7,
   "id": "c53d5a24",
   "metadata": {},
   "outputs": [
    {
     "data": {
      "text/plain": [
       "2"
      ]
     },
     "execution_count": 7,
     "metadata": {},
     "output_type": "execute_result"
    }
   ],
   "source": [
    "// Addinw twi unitary vectors will sum 2\n",
    "mathf3d.norm3D(mathf3d.addVector3D(normalized,normalized))\n",
    "\n"
   ]
  },
  {
   "cell_type": "markdown",
   "id": "e0ca89c5",
   "metadata": {},
   "source": [
    "Matrices are defined as a 3D vector, ordered as rows [[row1],[row2],[row3]]\n",
    "\n",
    "Functions include :\n",
    "sumMatrices3(A,B), where each matrix is added component wise.\n",
    "createI3(), creates a 3d Identity MAtrix\n",
    "prodMatrices3(), multiplies two 3d matrices A,B, \n",
    "prodMatrix3WVector: function (A, v) Multiples a vector v with the matrix A, i.e. Av\n"
   ]
  },
  {
   "cell_type": "markdown",
   "id": "322a9887",
   "metadata": {},
   "source": [
    "Special functions include\n",
    "\n",
    "Rotate a pointcloud around a vector at a given angle\n",
    "    \n",
    "       rotateAroundVectorRodriguez: function (pointsArray, axisVector, angle) \n",
    "    \n",
    " Points are passed as an array ox xy components, i.e. size = 3*Numberofpoints in pointcloud.   \n",
    "\n",
    "\n",
    "ComputeBBOX(pointsArray)  ; //computes a bounding box aligned to the xyz axes\n",
    "\n",
    "normalVector2Plane: function (x1, y1, z1, x2, y2, z2, x3, y3, z3) //computes a normal for the vectors given by x2-x1 and x2-x3\n",
    "\n",
    "    computeAngleBetweenVectors: function (v1, v2) // computes the angle between vectors v1 and v2 centered around the origin.\n",
    "    \n",
    "    \n"
   ]
  }
 ],
 "metadata": {
  "kernelspec": {
   "display_name": "Javascript (Node.js)",
   "language": "javascript",
   "name": "javascript"
  },
  "language_info": {
   "file_extension": ".js",
   "mimetype": "application/javascript",
   "name": "javascript",
   "version": "12.18.3"
  }
 },
 "nbformat": 4,
 "nbformat_minor": 5
}
