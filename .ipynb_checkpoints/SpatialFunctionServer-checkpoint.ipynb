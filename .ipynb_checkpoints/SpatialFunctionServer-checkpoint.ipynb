{
 "cells": [
  {
   "cell_type": "markdown",
   "id": "49440533",
   "metadata": {},
   "source": [
    "SpatialFunctionServer.   Is a small koa server providing http resources and functions for pointclouds stored on a poitgis db.\n",
    "\n",
    "\n",
    "Running server:  PRovides an entrypoint to the functions for a pointclud\n",
    "\n",
    "//npx lws --stack  body-parser lws-static lws-cors spatial_functions_server.js   \n",
    "\n",
    "\n",
    "Runing Standalone:\n",
    "     console.log(`Stanalone classification starts with:\n",
    "\n",
    "\n",
    "    \n",
    "    node --max-old-space-size=4096 spatial_functions_server.js computeSegmentVoxelSpace_geom table segmentID cellsize (meters)\n",
    "    \n",
    "    # check if two planes touch at oue on more voxel\n",
    "    node --max-old-space-size=4096 spatial_functions_server.js computeTouchesVoxel\n",
    "\n",
    "    # check if s1  planes is above s2 completely at voxel\n",
    "    node --max-old-space-size=4096 spatial_functions_server.js isS1AboveS2      \n",
    "\n",
    "    node --max-old-space-size=4096 spatial_functions_server.js enumerateSizes      \n",
    "\n",
    "\n",
    "    `);"
   ]
  },
  {
   "cell_type": "markdown",
   "id": "b4d2f3fe",
   "metadata": {},
   "source": [
    "Some functions return data while others return js code or http code, or even json objects.\n",
    "\n",
    "To make it easier, 3d objects are returned.\n",
    "\n",
    "\n",
    "\n",
    "\n",
    "\n"
   ]
  }
 ],
 "metadata": {
  "kernelspec": {
   "display_name": "Javascript (Node.js)",
   "language": "javascript",
   "name": "javascript"
  },
  "language_info": {
   "file_extension": ".js",
   "mimetype": "application/javascript",
   "name": "javascript",
   "version": "12.18.3"
  }
 },
 "nbformat": 4,
 "nbformat_minor": 5
}
